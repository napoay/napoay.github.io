{
 "cells": [
  {
   "cell_type": "code",
   "execution_count": null,
   "metadata": {},
   "outputs": [],
   "source": [
    "import numpy as np\n",
    "import matplotlib.pyplot as plt"
   ]
  },
  {
   "cell_type": "code",
   "execution_count": 2,
   "metadata": {},
   "outputs": [
    {
     "data": {
      "image/png": "[encoded data removed]",
      "text/plain": [
       "<Figure size 432x288 with 1 Axes>"
      ]
     },
     "metadata": {
      "needs_background": "light"
     },
     "output_type": "display_data"
    }
   ],
   "source": [
    "X  = np.array([ [6],[8], [10], [14], [18]]).reshape(-1,1) # Pizza的直径\n",
    "Y = [7, 9 , 13, 17.5, 18]                                 # Pizza的价格\n",
    "plt.figure()\n",
    "plt.title(\"Pizza Price plotted against diameter\")\n",
    "plt.xlabel(\"Diameter in inches\")\n",
    "plt.ylabel(\"Diameter in dollars\")\n",
    "plt.plot(X, Y, 'k.')\n",
    "plt.axis([0,25,0,25])\n",
    "plt.grid(True)\n",
    "plt.show()"
   ]
  },
  {
   "cell_type": "code",
   "execution_count": 6,
   "metadata": {},
   "outputs": [
    {
     "name": "stdout",
     "output_type": "stream",
     "text": [
      "A 12\" pizza should cost: $13.68 \n"
     ]
    }
   ],
   "source": [
    "from sklearn.linear_model import LinearRegression\n",
    "model = LinearRegression()\n",
    "model.fit(X, Y)\n",
    "\n",
    "test_pizza = np.array([[12]])\n",
    "predicted_price = model.predict(test_pizza)[0]\n",
    "print('A 12\" pizza should cost: $%.2f ' %predicted_price)"
   ]
  },
  {
   "cell_type": "markdown",
   "metadata": {},
   "source": [
    "## 方差\n",
    "\n",
    "方差衡量一组数值的偏离程度。  \n",
    "如果集合中所有的值都相等，方差为0.  \n",
    "方差越小，说明数据越接近均值。\n",
    "\n",
    " $$\n",
    "    var(x) = \\frac{\\sum_{1}^{n}{(x_i-\\bar x)^2}}{ n-1 }\n",
    " $$\n",
    " \n",
    " 计算方差时样本量减一称为贝塞尔校正，其目的是为了纠正样本中总体方差估计的偏差。\n"
   ]
  },
  {
   "cell_type": "code",
   "execution_count": 13,
   "metadata": {},
   "outputs": [
    {
     "name": "stdout",
     "output_type": "stream",
     "text": [
      "11.2\n",
      "23.2\n",
      "23.2\n"
     ]
    }
   ],
   "source": [
    "import numpy as np\n",
    "\n",
    "X  = np.array([ [6],[8], [10], [14], [18]]).reshape(-1,1) # Pizza的直径\n",
    "\n",
    "x_bar = X.mean()\n",
    "print(x_bar)\n",
    "\n",
    "variance = ((X - x_bar)**2).sum() / (X.shape[0] - 1)\n",
    "print(variance)\n",
    "\n",
    "# numpy中直接计算方差的函数 var(), ddof为贝塞尔校正参数\n",
    "print(np.var(X, ddof=1))"
   ]
  },
  {
   "cell_type": "markdown",
   "metadata": {},
   "source": [
    "## 协方差\n",
    "\n",
    "协方差统计两个变量如何一起变化，如果变量一起增加，协方差为正；  \n",
    "如果一个变量增加，另一个变量减少，协方差为负；  \n",
    "协方差为0，说明两个变量之间没有线性关系，线性无关但不一定独立。\n",
    "\n",
    "$$\n",
    "cov(\\vec x , \\vec y) = \\frac{\\sum_{i-1}^{n}{(x_i-\\bar x)(y_i-\\bar y)}}{n-1}\n",
    "$$\n",
    "\n"
   ]
  },
  {
   "cell_type": "code",
   "execution_count": 18,
   "metadata": {},
   "outputs": [
    {
     "name": "stdout",
     "output_type": "stream",
     "text": [
      "22.65\n",
      "22.650000000000002\n"
     ]
    }
   ],
   "source": [
    "y = np.array([7, 9 , 13, 17.5, 18])\n",
    "y_bar = y.mean()\n",
    "covariance = np.multiply((X-x_bar).transpose(), y-y_bar).sum()/(X.shape[0]-1)\n",
    "print(covariance)\n",
    "print(np.cov(X.transpose(),y)[0,1])"
   ]
  },
  {
   "cell_type": "markdown",
   "metadata": {},
   "source": [
    "$$\n",
    "y = \\alpha + \\beta x \n",
    "\\\\ \n",
    "\\beta = \\frac{cov(x,y)}{var(x)}\n",
    "\\\\\n",
    "\\alpha = \\bar y - \\beta \\bar x\n",
    "$$\n",
    "\n",
    "上面的计算结果中，cov(x,y) = 22.65, var(x) = 23.2 \n",
    "\n",
    "$$\n",
    " \\beta = \\frac{22.65}{23.2} \\approx 0.98\n",
    " \\\\\n",
    " \\alpha = \\bar y - \\beta \\bar x = 12.9 - 0.98*11.2 \\approx 1.92\n",
    "$$"
   ]
  },
  {
   "cell_type": "markdown",
   "metadata": {},
   "source": [
    "## 评价模型\n",
    "\n",
    "$$\n",
    "SS_{tot} = \\sum_{1}^{n} (y_i  - \\bar y)^2  \n",
    "\\\\\n",
    "SS_{res} = \\sum_{1}^{n}(y_i - f(x_i))^2  \n",
    "\\\\\n",
    "R^2 = 1 - \\frac{SS_{res}}{SS_{tot}}  \n",
    "$$ "
   ]
  },
  {
   "cell_type": "code",
   "execution_count": 20,
   "metadata": {},
   "outputs": [
    {
     "name": "stdout",
     "output_type": "stream",
     "text": [
      "0.6620052929422553\n"
     ]
    }
   ],
   "source": [
    "import numpy as np\n",
    "from sklearn.linear_model import LinearRegression\n",
    "\n",
    "X_train  = np.array([6,8,10,14,18]).reshape(-1, 1)\n",
    "y_train = [7,9,13,17.5,18]\n",
    "\n",
    "\n",
    "X_test  = np.array([8, 9, 11, 16, 12]).reshape(-1, 1)\n",
    "y_test = [11, 8.5, 15, 18, 11]\n",
    "\n",
    "model = LinearRegression()\n",
    "model.fit(X_train, y_train)\n",
    "\n",
    "r_squared = model.score(X_test, y_test)\n",
    "print(r_squared)"
   ]
  }
 ],
 "metadata": {
  "kernelspec": {
   "display_name": "Python 3",
   "language": "python",
   "name": "python3"
  },
  "language_info": {
   "codemirror_mode": {
    "name": "ipython",
    "version": 3
   },
   "file_extension": ".py",
   "mimetype": "text/x-python",
   "name": "python",
   "nbconvert_exporter": "python",
   "pygments_lexer": "ipython3",
   "version": "3.7.5"
  },
  "toc": {
   "base_numbering": 1,
   "nav_menu": {},
   "number_sections": false,
   "sideBar": true,
   "skip_h1_title": false,
   "title_cell": "Table of Contents",
   "title_sidebar": "Contents",
   "toc_cell": false,
   "toc_position": {},
   "toc_section_display": true,
   "toc_window_display": true
  }
 },
 "nbformat": 4,
 "nbformat_minor": 2
}
